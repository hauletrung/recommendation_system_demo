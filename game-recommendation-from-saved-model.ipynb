{
 "cells": [
  {
   "cell_type": "code",
   "execution_count": 5,
   "metadata": {},
   "outputs": [],
   "source": [
    "import pandas as pd\n",
    "\n",
    "headers = ['user_id', 'game', 'behavior', 'hours_played', 'other_columns']\n",
    "# Load the dataset\n",
    "data = pd.read_csv('steam-200k.csv', header=None, names=headers)\n",
    "\n",
    "# Data cleaning\n",
    "data.dropna(inplace=True)\n",
    "data.drop_duplicates(inplace=True)\n",
    "\n",
    "# Filter games and users with sufficient interactions\n",
    "data = data[data['hours_played'] > 0]\n",
    "\n",
    "# Split into training and testing sets\n",
    "from sklearn.model_selection import train_test_split\n",
    "train_data, test_data = train_test_split(data, test_size=0.2)"
   ]
  },
  {
   "cell_type": "code",
   "execution_count": 6,
   "metadata": {},
   "outputs": [],
   "source": [
    "import networkx as nx\n",
    "\n",
    "# Create a bipartite graph\n",
    "G = nx.Graph()\n",
    "\n",
    "# Add nodes and edges\n",
    "for row in train_data.itertuples():\n",
    "    G.add_node(row.user_id, bipartite=0)\n",
    "    G.add_node(row.game, bipartite=1)\n",
    "    G.add_edge(row.user_id, row.game, weight=row.hours_played)"
   ]
  },
  {
   "cell_type": "code",
   "execution_count": 27,
   "metadata": {},
   "outputs": [
    {
     "name": "stdout",
     "output_type": "stream",
     "text": [
      "[\"Don't Starve Reign of Giants\", 'Battlefield Bad Company 2', \"Hero Siege - The Karp of Doom (Digital Collector's Edition)\", 'Max Payne 3', 'Black Mirror II']\n"
     ]
    }
   ],
   "source": [
    "from gensim.models import Word2Vec\n",
    "from sklearn.metrics.pairwise import cosine_similarity\n",
    "\n",
    "model = Word2Vec.load(\"./models/node2vec_model_walk_1000_length_60\")\n",
    "\n",
    "# Get embeddings for all nodes\n",
    "embeddings = model.wv\n",
    "\n",
    "def recommend(user_id, num_recommendations=5):\n",
    "    user_id_str = str(user_id)\n",
    "    if user_id_str not in embeddings:\n",
    "        print(f\"User ID {user_id} was not found in embeddings\")\n",
    "        return []\n",
    "    user_embedding = embeddings[str(user_id)]\n",
    "\n",
    "    # Filter item nodes (those with bipartite=1)\n",
    "    item_nodes = [node for node, data in G.nodes(data=True) if data.get('bipartite') == 1]\n",
    "    \n",
    "    # Compute similarity between user embedding and all item embeddings\n",
    "    item_embeddings = [embeddings[str(item)] for item in item_nodes if str(item) in embeddings]\n",
    "    similarities = cosine_similarity([user_embedding], item_embeddings).flatten()\n",
    "    \n",
    "    # Get top N most similar items\n",
    "    top_indices = similarities.argsort()[-num_recommendations:][::-1]\n",
    "    recommended_items = [item_nodes[i] for i in top_indices]\n",
    "    \n",
    "    return recommended_items\n",
    "\n",
    "sample_user_id = 23717586\n",
    "# Example recommendation\n",
    "recommendations = recommend(user_id=sample_user_id, num_recommendations=5)\n",
    "print(recommendations)"
   ]
  }
 ],
 "metadata": {
  "kernelspec": {
   "display_name": "Python (.venv)",
   "language": "python",
   "name": ".venv"
  },
  "language_info": {
   "codemirror_mode": {
    "name": "ipython",
    "version": 3
   },
   "file_extension": ".py",
   "mimetype": "text/x-python",
   "name": "python",
   "nbconvert_exporter": "python",
   "pygments_lexer": "ipython3",
   "version": "3.12.4"
  }
 },
 "nbformat": 4,
 "nbformat_minor": 2
}
